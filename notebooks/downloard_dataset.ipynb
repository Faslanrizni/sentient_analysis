{
 "cells": [
  {
   "cell_type": "code",
   "execution_count": null,
   "id": "initial_id",
   "metadata": {},
   "outputs": [],
   "source": [
    "import numpy as np"
   ]
  },
  {
   "cell_type": "code",
   "execution_count": 1,
   "id": "cbfbb943-dd18-4e4d-89fd-f5fbac8c90d3",
   "metadata": {},
   "outputs": [],
   "source": [
    "import json\n",
    "with open('../artifacts/kaggle.json','r') as file:\n",
    "    data = json.load(file)"
   ]
  },
  {
   "cell_type": "code",
   "execution_count": 2,
   "id": "92d93657-6323-49b9-8887-bc869831701a",
   "metadata": {},
   "outputs": [
    {
     "data": {
      "text/plain": [
       "{'username': 'faslanrizni', 'key': 'df67eeb2306148ad45e095cb7d09aff5'}"
      ]
     },
     "execution_count": 2,
     "metadata": {},
     "output_type": "execute_result"
    }
   ],
   "source": [
    "data"
   ]
  },
  {
   "cell_type": "code",
   "execution_count": 3,
   "id": "17bdd79f-3ce9-4eec-89dc-98d8dc4c7445",
   "metadata": {},
   "outputs": [
    {
     "name": "stdout",
     "output_type": "stream",
     "text": [
      "Collecting kaggle\n",
      "  Downloading kaggle-1.6.14.tar.gz (82 kB)\n",
      "     ---------------------------------------- 0.0/82.1 kB ? eta -:--:--\n",
      "     ---- ----------------------------------- 10.2/82.1 kB ? eta -:--:--\n",
      "     --------- ---------------------------- 20.5/82.1 kB 129.6 kB/s eta 0:00:01\n",
      "     --------- ---------------------------- 20.5/82.1 kB 129.6 kB/s eta 0:00:01\n",
      "     --------- ---------------------------- 20.5/82.1 kB 129.6 kB/s eta 0:00:01\n",
      "     --------- ---------------------------- 20.5/82.1 kB 129.6 kB/s eta 0:00:01\n",
      "     --------- ---------------------------- 20.5/82.1 kB 129.6 kB/s eta 0:00:01\n",
      "     --------- ---------------------------- 20.5/82.1 kB 129.6 kB/s eta 0:00:01\n",
      "     --------- ---------------------------- 20.5/82.1 kB 129.6 kB/s eta 0:00:01\n",
      "     --------- ---------------------------- 20.5/82.1 kB 129.6 kB/s eta 0:00:01\n",
      "     --------- ---------------------------- 20.5/82.1 kB 129.6 kB/s eta 0:00:01\n",
      "     --------- ---------------------------- 20.5/82.1 kB 129.6 kB/s eta 0:00:01\n",
      "     --------- ---------------------------- 20.5/82.1 kB 129.6 kB/s eta 0:00:01\n",
      "     --------- ---------------------------- 20.5/82.1 kB 129.6 kB/s eta 0:00:01\n",
      "     -------------------------------------- 82.1/82.1 kB 121.0 kB/s eta 0:00:00\n",
      "  Installing build dependencies: started\n",
      "  Installing build dependencies: finished with status 'done'\n",
      "  Getting requirements to build wheel: started\n",
      "  Getting requirements to build wheel: finished with status 'done'\n",
      "  Installing backend dependencies: started\n",
      "  Installing backend dependencies: finished with status 'done'\n",
      "  Preparing metadata (pyproject.toml): started\n",
      "  Preparing metadata (pyproject.toml): finished with status 'done'\n",
      "Requirement already satisfied: six>=1.10 in e:\\ml\\sentient_analysis\\env\\lib\\site-packages (from kaggle) (1.16.0)\n",
      "Requirement already satisfied: certifi>=2023.7.22 in e:\\ml\\sentient_analysis\\env\\lib\\site-packages (from kaggle) (2024.6.2)\n",
      "Requirement already satisfied: python-dateutil in e:\\ml\\sentient_analysis\\env\\lib\\site-packages (from kaggle) (2.9.0.post0)\n",
      "Requirement already satisfied: requests in e:\\ml\\sentient_analysis\\env\\lib\\site-packages (from kaggle) (2.32.3)\n",
      "Collecting tqdm (from kaggle)\n",
      "  Downloading tqdm-4.66.4-py3-none-any.whl.metadata (57 kB)\n",
      "     ---------------------------------------- 0.0/57.6 kB ? eta -:--:--\n",
      "     ---------------------------------------- 0.0/57.6 kB ? eta -:--:--\n",
      "     ---------------------------------------- 0.0/57.6 kB ? eta -:--:--\n",
      "     ------- -------------------------------- 10.2/57.6 kB ? eta -:--:--\n",
      "     ------- -------------------------------- 10.2/57.6 kB ? eta -:--:--\n",
      "     -------------------- ----------------- 30.7/57.6 kB 186.2 kB/s eta 0:00:01\n",
      "     -------------------- ----------------- 30.7/57.6 kB 186.2 kB/s eta 0:00:01\n",
      "     -------------------- ----------------- 30.7/57.6 kB 186.2 kB/s eta 0:00:01\n",
      "     -------------------- ----------------- 30.7/57.6 kB 186.2 kB/s eta 0:00:01\n",
      "     --------------------------- ---------- 41.0/57.6 kB 103.4 kB/s eta 0:00:01\n",
      "     --------------------------- ---------- 41.0/57.6 kB 103.4 kB/s eta 0:00:01\n",
      "     -------------------------------------- 57.6/57.6 kB 126.2 kB/s eta 0:00:00\n",
      "Collecting python-slugify (from kaggle)\n",
      "  Using cached python_slugify-8.0.4-py2.py3-none-any.whl.metadata (8.5 kB)\n",
      "Requirement already satisfied: urllib3 in e:\\ml\\sentient_analysis\\env\\lib\\site-packages (from kaggle) (2.2.1)\n",
      "Requirement already satisfied: bleach in e:\\ml\\sentient_analysis\\env\\lib\\site-packages (from kaggle) (6.1.0)\n",
      "Requirement already satisfied: webencodings in e:\\ml\\sentient_analysis\\env\\lib\\site-packages (from bleach->kaggle) (0.5.1)\n",
      "Collecting text-unidecode>=1.3 (from python-slugify->kaggle)\n",
      "  Using cached text_unidecode-1.3-py2.py3-none-any.whl.metadata (2.4 kB)\n",
      "Requirement already satisfied: charset-normalizer<4,>=2 in e:\\ml\\sentient_analysis\\env\\lib\\site-packages (from requests->kaggle) (3.3.2)\n",
      "Requirement already satisfied: idna<4,>=2.5 in e:\\ml\\sentient_analysis\\env\\lib\\site-packages (from requests->kaggle) (3.7)\n",
      "Requirement already satisfied: colorama in e:\\ml\\sentient_analysis\\env\\lib\\site-packages (from tqdm->kaggle) (0.4.6)\n",
      "Using cached python_slugify-8.0.4-py2.py3-none-any.whl (10 kB)\n",
      "Downloading tqdm-4.66.4-py3-none-any.whl (78 kB)\n",
      "   ---------------------------------------- 0.0/78.3 kB ? eta -:--:--\n",
      "   ---------------------------------------- 0.0/78.3 kB ? eta -:--:--\n",
      "   ---------------------------------------- 0.0/78.3 kB ? eta -:--:--\n",
      "   ----- ---------------------------------- 10.2/78.3 kB ? eta -:--:--\n",
      "   ----- ---------------------------------- 10.2/78.3 kB ? eta -:--:--\n",
      "   --------------- ------------------------ 30.7/78.3 kB 217.9 kB/s eta 0:00:01\n",
      "   --------------- ------------------------ 30.7/78.3 kB 217.9 kB/s eta 0:00:01\n",
      "   --------------- ------------------------ 30.7/78.3 kB 217.9 kB/s eta 0:00:01\n",
      "   --------------- ------------------------ 30.7/78.3 kB 217.9 kB/s eta 0:00:01\n",
      "   --------------- ------------------------ 30.7/78.3 kB 217.9 kB/s eta 0:00:01\n",
      "   --------------- ------------------------ 30.7/78.3 kB 217.9 kB/s eta 0:00:01\n",
      "   --------------- ------------------------ 30.7/78.3 kB 217.9 kB/s eta 0:00:01\n",
      "   --------------- ------------------------ 30.7/78.3 kB 217.9 kB/s eta 0:00:01\n",
      "   --------------- ------------------------ 30.7/78.3 kB 217.9 kB/s eta 0:00:01\n",
      "   --------------- ------------------------ 30.7/78.3 kB 217.9 kB/s eta 0:00:01\n",
      "   -------------------- ------------------- 41.0/78.3 kB 54.7 kB/s eta 0:00:01\n",
      "   -------------------- ------------------- 41.0/78.3 kB 54.7 kB/s eta 0:00:01\n",
      "   ---------------------------------------- 78.3/78.3 kB 101.2 kB/s eta 0:00:00\n",
      "Using cached text_unidecode-1.3-py2.py3-none-any.whl (78 kB)\n",
      "Building wheels for collected packages: kaggle\n",
      "  Building wheel for kaggle (pyproject.toml): started\n",
      "  Building wheel for kaggle (pyproject.toml): finished with status 'done'\n",
      "  Created wheel for kaggle: filename=kaggle-1.6.14-py3-none-any.whl size=105128 sha256=f1e160f88ad97621615a927e7de72af182a7e1736056772a9fe5880bd7a7240a\n",
      "  Stored in directory: c:\\users\\faslan rizni\\appdata\\local\\pip\\cache\\wheels\\89\\bc\\52\\0d140fc172783e1e72e3af4dfc13015dc154527fafb95e65cd\n",
      "Successfully built kaggle\n",
      "Installing collected packages: text-unidecode, tqdm, python-slugify, kaggle\n",
      "Successfully installed kaggle-1.6.14 python-slugify-8.0.4 text-unidecode-1.3 tqdm-4.66.4\n"
     ]
    }
   ],
   "source": [
    "!pip install kaggle"
   ]
  },
  {
   "cell_type": "code",
   "execution_count": 5,
   "id": "9c7cdc31-5988-4775-9b2a-5310e0c06fed",
   "metadata": {},
   "outputs": [],
   "source": [
    "import os\n",
    "os.environ['KAGGLE_USERNAME'] = data['username']\n",
    "os.environ['KAGGLE_KEY'] = data['key']"
   ]
  },
  {
   "cell_type": "code",
   "execution_count": 7,
   "id": "d65e67fd-62bf-482f-82a9-42ff43ffc874",
   "metadata": {},
   "outputs": [],
   "source": [
    "# api key for downloard dataset\n",
    "from kaggle.api.kaggle_api_extended import KaggleApi\n",
    "api = KaggleApi()\n",
    "api.authenticate()"
   ]
  },
  {
   "cell_type": "code",
   "execution_count": 9,
   "id": "28488d60-98a8-4680-8c96-6b4fe5628dda",
   "metadata": {},
   "outputs": [
    {
     "name": "stdout",
     "output_type": "stream",
     "text": [
      "Dataset URL: https://www.kaggle.com/datasets/dineshpiyasamara/sentiment-analysis-dataset\n"
     ]
    }
   ],
   "source": [
    "api.dataset_download_files('dineshpiyasamara/sentiment-analysis-dataset',path='../artifacts')"
   ]
  },
  {
   "cell_type": "code",
   "execution_count": 10,
   "id": "dff7a5a1-4fa1-4e64-bb93-54e3a547c2b5",
   "metadata": {},
   "outputs": [],
   "source": [
    "# zip to csv\n",
    "import zipfile\n",
    "with zipfile.ZipFile('../artifacts/sentiment-analysis-dataset.zip','r') as zip_extend:\n",
    "    zip_extend.extractall('../artifacts/')"
   ]
  },
  {
   "cell_type": "code",
   "execution_count": null,
   "id": "3b6bab49-ea82-499a-a030-a0f76b060c9e",
   "metadata": {},
   "outputs": [],
   "source": []
  }
 ],
 "metadata": {
  "kernelspec": {
   "display_name": "Python 3 (ipykernel)",
   "language": "python",
   "name": "python3"
  },
  "language_info": {
   "codemirror_mode": {
    "name": "ipython",
    "version": 3
   },
   "file_extension": ".py",
   "mimetype": "text/x-python",
   "name": "python",
   "nbconvert_exporter": "python",
   "pygments_lexer": "ipython3",
   "version": "3.12.1"
  }
 },
 "nbformat": 4,
 "nbformat_minor": 5
}
